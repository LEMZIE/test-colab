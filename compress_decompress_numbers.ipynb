{
  "nbformat": 4,
  "nbformat_minor": 0,
  "metadata": {
    "colab": {
      "name": "compress_decompress_numbers.ipynb",
      "provenance": [],
      "collapsed_sections": [],
      "authorship_tag": "ABX9TyMXRyWp2Xxc+PFdg1LL3GxC",
      "include_colab_link": true
    },
    "kernelspec": {
      "name": "python3",
      "display_name": "Python 3"
    },
    "language_info": {
      "name": "python"
    }
  },
  "cells": [
    {
      "cell_type": "markdown",
      "metadata": {
        "id": "view-in-github",
        "colab_type": "text"
      },
      "source": [
        "<a href=\"https://colab.research.google.com/github/LEMZIE/test-colab/blob/main/compress_decompress_numbers.ipynb\" target=\"_parent\"><img src=\"https://colab.research.google.com/assets/colab-badge.svg\" alt=\"Open In Colab\"/></a>"
      ]
    },
    {
      "cell_type": "code",
      "metadata": {
        "colab": {
          "base_uri": "https://localhost:8080/"
        },
        "id": "f4PE6P6J6DW-",
        "outputId": "238680be-ed02-4cd7-8add-fc0b3bb409b7"
      },
      "source": [
        "from itertools import groupby\n",
        "\n",
        "\n",
        "def compress(number):\n",
        "    result = []\n",
        "    for key, group in groupby(str(number)):\n",
        "        result.append((key, str(len(list(group)))))\n",
        "    result = [''.join(item) for item in result]\n",
        "    return '_'.join(result)\n",
        "\n",
        "def decompress(x):\n",
        "    rezult = []\n",
        "    for i in x.split('_'):\n",
        "        rezult.append(str(list(i)[0])*int(list(i)[1]))\n",
        "    return int(''.join(rezult))\n",
        "\n",
        "x = input('Podaj liczbę: ')\n",
        "print(compress(x))\n",
        "print(decompress(compress(x)))"
      ],
      "execution_count": 1,
      "outputs": [
        {
          "output_type": "stream",
          "name": "stdout",
          "text": [
            "Podaj liczbę: 4442221100004\n",
            "43_23_12_04_41\n",
            "4442221100004\n"
          ]
        }
      ]
    }
  ]
}