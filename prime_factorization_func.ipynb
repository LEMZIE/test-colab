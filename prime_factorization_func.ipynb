{
  "nbformat": 4,
  "nbformat_minor": 0,
  "metadata": {
    "colab": {
      "name": "prime_factorization_func.ipynb",
      "provenance": [],
      "collapsed_sections": [],
      "authorship_tag": "ABX9TyPRaEy8dySZ7WdTkuR43eyQ",
      "include_colab_link": true
    },
    "kernelspec": {
      "name": "python3",
      "display_name": "Python 3"
    },
    "language_info": {
      "name": "python"
    }
  },
  "cells": [
    {
      "cell_type": "markdown",
      "metadata": {
        "id": "view-in-github",
        "colab_type": "text"
      },
      "source": [
        "<a href=\"https://colab.research.google.com/github/LEMZIE/test-colab/blob/main/prime_factorization_func.ipynb\" target=\"_parent\"><img src=\"https://colab.research.google.com/assets/colab-badge.svg\" alt=\"Open In Colab\"/></a>"
      ]
    },
    {
      "cell_type": "code",
      "metadata": {
        "id": "Cj6ZF0qz0HhX"
      },
      "source": [
        "def calculate(x):\n",
        "    res = []\n",
        "    div = []\n",
        "    k = 0\n",
        "    if x > 1:\n",
        "        for i in range(2, x+1):\n",
        "            if x % i == 0:\n",
        "                flag = False\n",
        "                for j in range(2,i):\n",
        "                    if i % j == 0:\n",
        "                        flag = True\n",
        "                        break\n",
        "                if flag == False:\n",
        "                    res.append(i)\n",
        "    while k < len(res):\n",
        "        if x % res[k] == 0:\n",
        "            div.append(res[k])\n",
        "            x = x / res[k]\n",
        "        else:\n",
        "            k += 1\n",
        "    return div"
      ],
      "execution_count": null,
      "outputs": []
    }
  ]
}